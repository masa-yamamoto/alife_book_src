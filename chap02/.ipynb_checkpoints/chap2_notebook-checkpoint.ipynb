{
 "cells": [
  {
   "cell_type": "markdown",
   "metadata": {},
   "source": [
    "# 2章 生命のパターンを作る"
   ]
  },
  {
   "cell_type": "markdown",
   "metadata": {},
   "source": [
    "## 2.1 自己組織化する自然界のパターン"
   ]
  },
  {
   "cell_type": "markdown",
   "metadata": {},
   "source": [
    "自己組織化：完成図面無しでも構造ができること\n",
    "\n",
    "eg.) 台風、金平糖、雪の結晶、カルマン渦列、ヘビの表皮、チョウの羽のパターン、熱帯魚のストライプ"
   ]
  },
  {
   "cell_type": "markdown",
   "metadata": {},
   "source": [
    "## 2.2 生成パターンモデル"
   ]
  },
  {
   "cell_type": "markdown",
   "metadata": {},
   "source": [
    "### 2.2.1 チューリングパターン"
   ]
  },
  {
   "cell_type": "markdown",
   "metadata": {},
   "source": [
    "チューリング \"The Chemical Basis of Morphogenesis\"(1952)\n",
    "\n",
    "興奮と抑制の相互作用によってパターンが形成される⇒反応拡散系"
   ]
  },
  {
   "cell_type": "markdown",
   "metadata": {},
   "source": [
    "### 2.2.2 Gray-Scott モデル"
   ]
  },
  {
   "cell_type": "markdown",
   "metadata": {},
   "source": [
    "チューリングパターンの不安定性を示す\n",
    "\n",
    "gray_scott.py　※出力をnotebook内に表示させる方法がわからない"
   ]
  },
  {
   "cell_type": "code",
   "execution_count": 16,
   "metadata": {},
   "outputs": [
    {
     "ename": "KeyboardInterrupt",
     "evalue": "",
     "output_type": "error",
     "traceback": [
      "\u001b[1;31m---------------------------------------------------------------------------\u001b[0m",
      "\u001b[1;31mKeyboardInterrupt\u001b[0m                         Traceback (most recent call last)",
      "\u001b[1;32m<ipython-input-16-19eee3d3ba0a>\u001b[0m in \u001b[0;36m<module>\u001b[1;34m\u001b[0m\n\u001b[0;32m     47\u001b[0m         \u001b[1;31m# Gray-Scottモデル方程式\u001b[0m\u001b[1;33m\u001b[0m\u001b[1;33m\u001b[0m\u001b[1;33m\u001b[0m\u001b[0m\n\u001b[0;32m     48\u001b[0m         \u001b[0mdudt\u001b[0m \u001b[1;33m=\u001b[0m \u001b[0mDu\u001b[0m\u001b[1;33m*\u001b[0m\u001b[0mlaplacian_u\u001b[0m \u001b[1;33m-\u001b[0m \u001b[0mu\u001b[0m\u001b[1;33m*\u001b[0m\u001b[0mv\u001b[0m\u001b[1;33m*\u001b[0m\u001b[0mv\u001b[0m \u001b[1;33m+\u001b[0m \u001b[0mf\u001b[0m\u001b[1;33m*\u001b[0m\u001b[1;33m(\u001b[0m\u001b[1;36m1.0\u001b[0m\u001b[1;33m-\u001b[0m\u001b[0mu\u001b[0m\u001b[1;33m)\u001b[0m\u001b[1;33m\u001b[0m\u001b[1;33m\u001b[0m\u001b[0m\n\u001b[1;32m---> 49\u001b[1;33m         \u001b[0mdvdt\u001b[0m \u001b[1;33m=\u001b[0m \u001b[0mDv\u001b[0m\u001b[1;33m*\u001b[0m\u001b[0mlaplacian_v\u001b[0m \u001b[1;33m+\u001b[0m \u001b[0mu\u001b[0m\u001b[1;33m*\u001b[0m\u001b[0mv\u001b[0m\u001b[1;33m*\u001b[0m\u001b[0mv\u001b[0m \u001b[1;33m-\u001b[0m \u001b[1;33m(\u001b[0m\u001b[0mf\u001b[0m\u001b[1;33m+\u001b[0m\u001b[0mk\u001b[0m\u001b[1;33m)\u001b[0m\u001b[1;33m*\u001b[0m\u001b[0mv\u001b[0m\u001b[1;33m\u001b[0m\u001b[1;33m\u001b[0m\u001b[0m\n\u001b[0m\u001b[0;32m     50\u001b[0m         \u001b[0mu\u001b[0m \u001b[1;33m+=\u001b[0m \u001b[0mdt\u001b[0m \u001b[1;33m*\u001b[0m \u001b[0mdudt\u001b[0m\u001b[1;33m\u001b[0m\u001b[1;33m\u001b[0m\u001b[0m\n\u001b[0;32m     51\u001b[0m         \u001b[0mv\u001b[0m \u001b[1;33m+=\u001b[0m \u001b[0mdt\u001b[0m \u001b[1;33m*\u001b[0m \u001b[0mdvdt\u001b[0m\u001b[1;33m\u001b[0m\u001b[1;33m\u001b[0m\u001b[0m\n",
      "\u001b[1;31mKeyboardInterrupt\u001b[0m: "
     ]
    }
   ],
   "source": [
    "#!/usr/bin/env python\n",
    "# -*- coding: utf-8 -*-\n",
    "\n",
    "import sys, os\n",
    "sys.path.append(os.pardir)  # 親ディレクトリのファイルをインポートするための設定\n",
    "import numpy as np\n",
    "from alifebook_lib.visualizers import MatrixVisualizer\n",
    "\n",
    "# visualizerの初期化 (Appendix参照)\n",
    "visualizer = MatrixVisualizer()\n",
    "\n",
    "# シミュレーションの各パラメタ\n",
    "SPACE_GRID_SIZE = 256\n",
    "dx = 0.01\n",
    "dt = 1\n",
    "VISUALIZATION_STEP = 8  # 何ステップごとに画面を更新するか。\n",
    "\n",
    "# モデルの各パラメタ\n",
    "Du = 2e-5\n",
    "Dv = 1e-5\n",
    "f, k = 0.04, 0.06  # amorphous\n",
    "# f, k = 0.035, 0.065  # spots\n",
    "# f, k = 0.012, 0.05  # wandering bubbles\n",
    "# f, k = 0.025, 0.05  # waves\n",
    "# f, k = 0.022, 0.051 # stripe\n",
    "\n",
    "# 初期化\n",
    "u = np.ones((SPACE_GRID_SIZE, SPACE_GRID_SIZE))\n",
    "v = np.zeros((SPACE_GRID_SIZE, SPACE_GRID_SIZE))\n",
    "# 中央にSQUARE_SIZE四方の正方形を置く\n",
    "SQUARE_SIZE = 20\n",
    "u[SPACE_GRID_SIZE//2-SQUARE_SIZE//2:SPACE_GRID_SIZE//2+SQUARE_SIZE//2,\n",
    "  SPACE_GRID_SIZE//2-SQUARE_SIZE//2:SPACE_GRID_SIZE//2+SQUARE_SIZE//2] = 0.5\n",
    "v[SPACE_GRID_SIZE//2-SQUARE_SIZE//2:SPACE_GRID_SIZE//2+SQUARE_SIZE//2,\n",
    "  SPACE_GRID_SIZE//2-SQUARE_SIZE//2:SPACE_GRID_SIZE//2+SQUARE_SIZE//2] = 0.25\n",
    "# 対称性を壊すために、少しノイズを入れる\n",
    "u += np.random.rand(SPACE_GRID_SIZE, SPACE_GRID_SIZE)*0.1\n",
    "v += np.random.rand(SPACE_GRID_SIZE, SPACE_GRID_SIZE)*0.1\n",
    "\n",
    "while visualizer:  # visualizerはウィンドウが閉じられるとFalseを返す\n",
    "    for i in range(VISUALIZATION_STEP):\n",
    "        # ラプラシアンの計算\n",
    "        laplacian_u = (np.roll(u, 1, axis=0) + np.roll(u, -1, axis=0) +\n",
    "                       np.roll(u, 1, axis=1) + np.roll(u, -1, axis=1) - 4*u) / (dx*dx)\n",
    "        laplacian_v = (np.roll(v, 1, axis=0) + np.roll(v, -1, axis=0) +\n",
    "                       np.roll(v, 1, axis=1) + np.roll(v, -1, axis=1) - 4*v) / (dx*dx)\n",
    "        # Gray-Scottモデル方程式\n",
    "        dudt = Du*laplacian_u - u*v*v + f*(1.0-u)\n",
    "        dvdt = Dv*laplacian_v + u*v*v - (f+k)*v\n",
    "        u += dt * dudt\n",
    "        v += dt * dvdt\n",
    "    # 表示をアップデート\n",
    "    visualizer.update(u)\n"
   ]
  },
  {
   "cell_type": "code",
   "execution_count": null,
   "metadata": {},
   "outputs": [],
   "source": []
  }
 ],
 "metadata": {
  "kernelspec": {
   "display_name": "Python 3",
   "language": "python",
   "name": "python3"
  },
  "language_info": {
   "codemirror_mode": {
    "name": "ipython",
    "version": 3
   },
   "file_extension": ".py",
   "mimetype": "text/x-python",
   "name": "python",
   "nbconvert_exporter": "python",
   "pygments_lexer": "ipython3",
   "version": "3.7.3"
  }
 },
 "nbformat": 4,
 "nbformat_minor": 2
}
